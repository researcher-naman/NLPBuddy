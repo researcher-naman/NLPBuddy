{
 "cells": [
  {
   "cell_type": "code",
   "execution_count": 3,
   "id": "6bdade8f-1aa2-4115-9492-e5c74819de54",
   "metadata": {},
   "outputs": [
    {
     "name": "stdout",
     "output_type": "stream",
     "text": [
      "Data saved as 'generated_data.csv'\n"
     ]
    }
   ],
   "source": [
    "import pandas as pd\n",
    "import random\n",
    "\n",
    "# Sample data structure to start with\n",
    "data = [\n",
    "    {\"context\": \"The heart is a muscular organ in humans that pumps blood through the circulatory system.\", \"question\": \"What organ pumps blood?\", \"answer\": \"heart\"},\n",
    "    {\"context\": \"The human brain is responsible for controlling thought, memory, emotion, touch, motor skills, vision, breathing, and many other activities.\", \"question\": \"What controls memory?\", \"answer\": \"brain\"},\n",
    "    {\"context\": \"Water is essential for life and makes up about 60% of the human body weight.\", \"question\": \"What is essential for life?\", \"answer\": \"water\"},\n",
    "    {\"context\": \"Diabetes is a disease that occurs when your blood glucose, also called blood sugar, is too high.\", \"question\": \"What disease occurs with high blood glucose?\", \"answer\": \"diabetes\"},\n",
    "]\n",
    "\n",
    "# Function to auto-generate a new row with different content\n",
    "def generate_new_row():\n",
    "    subjects = [\"heart\", \"brain\", \"water\", \"diabetes\", \"liver\", \"kidney\", \"lungs\"]\n",
    "    actions = [\"pumps\", \"controls\", \"is essential for\", \"occurs when\", \"filters\", \"regulates\", \"helps with\"]\n",
    "    properties = [\"blood\", \"memory\", \"life\", \"glucose\", \"toxins\", \"oxygen\", \"water\", \"sugar\"]\n",
    "    diseases = [\"high blood glucose\", \"low oxygen\", \"dehydration\", \"infections\", \"liver failure\", \"kidney disease\"]\n",
    "\n",
    "    # Randomly pick data for new row\n",
    "    subject = random.choice(subjects)\n",
    "    action = random.choice(actions)\n",
    "    property_or_disease = random.choice(properties if random.random() > 0.5 else diseases)\n",
    "\n",
    "    context = f\"The {subject} {action} {property_or_disease}.\"\n",
    "    question = f\"What {subject} {action} {property_or_disease}?\"\n",
    "    answer = subject\n",
    "    \n",
    "    return {\"context\": context, \"question\": question, \"answer\": answer}\n",
    "\n",
    "# Generate additional rows\n",
    "additional_data = [generate_new_row() for _ in range(1000)]  # Generates 96 additional rows\n",
    "\n",
    "# Combine the original and new data\n",
    "df = pd.DataFrame(data + additional_data)\n",
    "\n",
    "# Save the DataFrame to a CSV file\n",
    "df.to_csv('generated_data.csv', index=False)\n",
    "\n",
    "# Print confirmation message\n",
    "print(\"Data saved as 'generated_data.csv'\")\n"
   ]
  },
  {
   "cell_type": "code",
   "execution_count": null,
   "id": "ae932122-794d-4dde-b7b8-ccdbcae4e796",
   "metadata": {},
   "outputs": [],
   "source": []
  }
 ],
 "metadata": {
  "kernelspec": {
   "display_name": "Python 3 (ipykernel)",
   "language": "python",
   "name": "python3"
  },
  "language_info": {
   "codemirror_mode": {
    "name": "ipython",
    "version": 3
   },
   "file_extension": ".py",
   "mimetype": "text/x-python",
   "name": "python",
   "nbconvert_exporter": "python",
   "pygments_lexer": "ipython3",
   "version": "3.12.2"
  }
 },
 "nbformat": 4,
 "nbformat_minor": 5
}
